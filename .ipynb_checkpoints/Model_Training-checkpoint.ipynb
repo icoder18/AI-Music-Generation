{
 "cells": [
  {
   "cell_type": "code",
   "execution_count": 1,
   "metadata": {
    "id": "1XB0PXZ8sb2l"
   },
   "outputs": [],
   "source": [
    "from music21 import converter, instrument, note, chord, stream\n",
    "import glob\n",
    "import pickle\n",
    "import numpy as np"
   ]
  },
  {
   "cell_type": "code",
   "execution_count": 2,
   "metadata": {
    "id": "ohozx2EMsoSZ"
   },
   "outputs": [],
   "source": [
    "with open('notes','rb') as f:\n",
    "    notes=pickle.load(f)"
   ]
  },
  {
   "cell_type": "code",
   "execution_count": 3,
   "metadata": {
    "id": "0HP3Ljovsqqj"
   },
   "outputs": [],
   "source": [
    "n_vocab = len(set(notes))"
   ]
  },
  {
   "cell_type": "code",
   "execution_count": 4,
   "metadata": {
    "colab": {
     "base_uri": "https://localhost:8080/"
    },
    "id": "11D5MLcasr6e",
    "outputId": "47292f18-da10-4dbc-d0b5-7cc11dd1f747"
   },
   "outputs": [
    {
     "name": "stdout",
     "output_type": "stream",
     "text": [
      "Total Notes:  59652\n",
      "Unique Notes:  358\n"
     ]
    }
   ],
   "source": [
    "print(\"Total Notes: \", len(notes))\n",
    "print(\"Unique Notes: \", n_vocab)"
   ]
  },
  {
   "cell_type": "code",
   "execution_count": 5,
   "metadata": {
    "colab": {
     "base_uri": "https://localhost:8080/"
    },
    "id": "fymuNOKEstjp",
    "outputId": "2af9e9bf-aca1-40a7-d6b8-14d178c5c0d5"
   },
   "outputs": [
    {
     "name": "stdout",
     "output_type": "stream",
     "text": [
      "['4+9', 'E2', '4+9', '4+9', '4+9', '4+9', '4+9', '4+9', '4+9', '11+4', '4+9', '11+4', '4+9', '4+9', '4+9', '4+9', '4+9', '0+4', 'E2', '4+9', '0+4', '4+9', '4+9', '4+9', '4+9', '4+9', '9+2', '4+9', '9+2', '9+2', '4+9', '4+9', '4+9', '4+9', '4+9', '4+9', 'E2', '4+9', '4+9', '4+9', '4+9', '4+9', 'E5', 'F5', 'G#5', 'A5', '4+9', '4+9', '5+11', '4+9', '5+11', '4+9', '4+9', '4+9', 'E5', 'F5', 'G#5', 'A5', '4+9', '4+9', '9+0', 'E2', '4+9', '9+0', '4+9', '4+9', '4+9', 'E5', 'F5', 'G#5', 'A5', '4+9', '4+9', '11+2', '4+9', '11+2', '11+2', '4+9', '4+9', '4+9', 'E5', 'F5', 'G#5', 'A5', '4+9', '4+9', '3+7+11', 'E-2', '3+7+11', 'B2', 'G2', '1+5+9', 'F#2', '1+5+9', '3+7+11', 'E-2', '3+7+11', 'G2', 'B2', 'E-3']\n"
     ]
    }
   ],
   "source": [
    "print(notes[:100])"
   ]
  },
  {
   "cell_type": "markdown",
   "metadata": {
    "id": "ng794UdAsxPD"
   },
   "source": [
    "### Preparing Sequential Data for LSTM"
   ]
  },
  {
   "cell_type": "code",
   "execution_count": 6,
   "metadata": {
    "id": "FrivODiQsvJL"
   },
   "outputs": [],
   "source": [
    "sequence_length = 100 #no of elements LSTM i/p should consider"
   ]
  },
  {
   "cell_type": "code",
   "execution_count": 7,
   "metadata": {
    "id": "JRsiM2pisyxx"
   },
   "outputs": [],
   "source": [
    "pitchnames = sorted(set(notes))"
   ]
  },
  {
   "cell_type": "code",
   "execution_count": 8,
   "metadata": {
    "id": "EmJwjwbLsz0B"
   },
   "outputs": [],
   "source": [
    "#mapping\n",
    "el_to_int = dict((e,num) for num,e in enumerate(pitchnames))"
   ]
  },
  {
   "cell_type": "code",
   "execution_count": 9,
   "metadata": {
    "id": "o8tXW-bhs1SH"
   },
   "outputs": [],
   "source": [
    "#el_to_int"
   ]
  },
  {
   "cell_type": "code",
   "execution_count": 10,
   "metadata": {
    "id": "Lx37qdbXs3Wh"
   },
   "outputs": [],
   "source": [
    "network_ip = []\n",
    "network_op = []"
   ]
  },
  {
   "cell_type": "code",
   "execution_count": 11,
   "metadata": {
    "id": "e1UxXbt7s4v0"
   },
   "outputs": [],
   "source": [
    "for i in range(len(notes)-sequence_length):\n",
    "    seq_in = notes[i:i+sequence_length]\n",
    "    seq_out = notes[i+sequence_length]\n",
    "    \n",
    "    network_ip.append([el_to_int[ch] for ch in seq_in])\n",
    "    network_op.append(el_to_int[seq_out])"
   ]
  },
  {
   "cell_type": "code",
   "execution_count": 12,
   "metadata": {
    "colab": {
     "base_uri": "https://localhost:8080/"
    },
    "id": "bRy9s4g7s5sL",
    "outputId": "a8fd6f30-aa89-41e4-f0ab-46f87f0304f8"
   },
   "outputs": [
    {
     "data": {
      "text/plain": [
       "100"
      ]
     },
     "execution_count": 12,
     "metadata": {
      "tags": []
     },
     "output_type": "execute_result"
    }
   ],
   "source": [
    "len(network_ip[0])"
   ]
  },
  {
   "cell_type": "code",
   "execution_count": 13,
   "metadata": {
    "colab": {
     "base_uri": "https://localhost:8080/"
    },
    "id": "zUs5FSRNs7FB",
    "outputId": "74a5b45a-044c-45ac-ed0f-7f7dd9a302f8"
   },
   "outputs": [
    {
     "name": "stdout",
     "output_type": "stream",
     "text": [
      "59552\n"
     ]
    }
   ],
   "source": [
    "#No of examples\n",
    "n_patterns = len(network_ip)\n",
    "print(n_patterns)"
   ]
  },
  {
   "cell_type": "code",
   "execution_count": 14,
   "metadata": {
    "colab": {
     "base_uri": "https://localhost:8080/"
    },
    "id": "dAc5XVfds8Wi",
    "outputId": "0c5cd84a-6ec4-4e14-8cc3-af7ab00c8666"
   },
   "outputs": [
    {
     "name": "stdout",
     "output_type": "stream",
     "text": [
      "(59552, 100, 1)\n"
     ]
    }
   ],
   "source": [
    "network_ip = np.reshape(network_ip,(n_patterns,sequence_length,1))\n",
    "print(network_ip.shape)"
   ]
  },
  {
   "cell_type": "code",
   "execution_count": 15,
   "metadata": {
    "id": "j5sIenWls9dL"
   },
   "outputs": [],
   "source": [
    "# Normalizing data\n",
    "normalized_network_ip = network_ip/float(n_vocab)"
   ]
  },
  {
   "cell_type": "code",
   "execution_count": 17,
   "metadata": {
    "colab": {
     "base_uri": "https://localhost:8080/"
    },
    "id": "CgABWNnts-7Q",
    "outputId": "e1b5fa91-7613-4d48-eaa2-986a0004d712"
   },
   "outputs": [
    {
     "name": "stdout",
     "output_type": "stream",
     "text": [
      "(59552, 358)\n"
     ]
    }
   ],
   "source": [
    "# Network output are the classes, encode into one hot vector\n",
    "from keras.utils import to_categorical\n",
    "\n",
    "network_op = to_categorical(network_op)\n",
    "print(network_op.shape)"
   ]
  },
  {
   "cell_type": "markdown",
   "metadata": {
    "id": "4Dtcn63YtSf8"
   },
   "source": [
    "## Create the Model"
   ]
  },
  {
   "cell_type": "code",
   "execution_count": 18,
   "metadata": {
    "id": "H7J6r2mTtPOZ"
   },
   "outputs": [],
   "source": [
    "from keras.models import Sequential\n",
    "from keras.layers import *\n",
    "from keras.callbacks import ModelCheckpoint, EarlyStopping"
   ]
  },
  {
   "cell_type": "code",
   "execution_count": 19,
   "metadata": {
    "id": "y0yIy6y4tT8W"
   },
   "outputs": [],
   "source": [
    "model = Sequential()\n",
    "model.add( LSTM(units=512,\n",
    "               input_shape = (normalized_network_ip.shape[1], normalized_network_ip.shape[2]),\n",
    "               return_sequences = True) )\n",
    "model.add( Dropout(0.3) )\n",
    "model.add( LSTM(512, return_sequences=True) )\n",
    "model.add( Dropout(0.3) )\n",
    "model.add( LSTM(512) )\n",
    "model.add( Dense(256) )\n",
    "model.add( Dropout(0.3) )\n",
    "model.add( Dense(n_vocab, activation=\"softmax\") )"
   ]
  },
  {
   "cell_type": "code",
   "execution_count": 20,
   "metadata": {
    "id": "8hi3AJhmtU6m"
   },
   "outputs": [],
   "source": [
    "model.compile(loss=\"categorical_crossentropy\", optimizer=\"adam\")"
   ]
  },
  {
   "cell_type": "code",
   "execution_count": 21,
   "metadata": {
    "colab": {
     "base_uri": "https://localhost:8080/"
    },
    "id": "rQ-dZFDDtWR7",
    "outputId": "7dfc689a-7e80-469e-be6f-0a43ff216251"
   },
   "outputs": [
    {
     "name": "stdout",
     "output_type": "stream",
     "text": [
      "Model: \"sequential\"\n",
      "_________________________________________________________________\n",
      "Layer (type)                 Output Shape              Param #   \n",
      "=================================================================\n",
      "lstm (LSTM)                  (None, 100, 512)          1052672   \n",
      "_________________________________________________________________\n",
      "dropout (Dropout)            (None, 100, 512)          0         \n",
      "_________________________________________________________________\n",
      "lstm_1 (LSTM)                (None, 100, 512)          2099200   \n",
      "_________________________________________________________________\n",
      "dropout_1 (Dropout)          (None, 100, 512)          0         \n",
      "_________________________________________________________________\n",
      "lstm_2 (LSTM)                (None, 512)               2099200   \n",
      "_________________________________________________________________\n",
      "dense (Dense)                (None, 256)               131328    \n",
      "_________________________________________________________________\n",
      "dropout_2 (Dropout)          (None, 256)               0         \n",
      "_________________________________________________________________\n",
      "dense_1 (Dense)              (None, 358)               92006     \n",
      "=================================================================\n",
      "Total params: 5,474,406\n",
      "Trainable params: 5,474,406\n",
      "Non-trainable params: 0\n",
      "_________________________________________________________________\n"
     ]
    }
   ],
   "source": [
    "model.summary()"
   ]
  },
  {
   "cell_type": "code",
   "execution_count": 22,
   "metadata": {
    "colab": {
     "base_uri": "https://localhost:8080/"
    },
    "id": "ynq2JrcrtX4Z",
    "outputId": "b304597e-f767-406d-d53f-a8b3f5722855"
   },
   "outputs": [
    {
     "name": "stdout",
     "output_type": "stream",
     "text": [
      "Epoch 1/100\n",
      "931/931 [==============================] - 67s 72ms/step - loss: 4.7739\n",
      "Epoch 2/100\n",
      "931/931 [==============================] - 70s 75ms/step - loss: 4.7319\n",
      "Epoch 3/100\n",
      "931/931 [==============================] - 71s 76ms/step - loss: 4.7248\n",
      "Epoch 4/100\n",
      "931/931 [==============================] - 72s 77ms/step - loss: 4.7221\n",
      "Epoch 5/100\n",
      "931/931 [==============================] - 72s 78ms/step - loss: 4.7204\n",
      "Epoch 6/100\n",
      "931/931 [==============================] - 72s 78ms/step - loss: 4.7194\n",
      "Epoch 7/100\n",
      "931/931 [==============================] - 72s 77ms/step - loss: 4.7194\n",
      "Epoch 8/100\n",
      "931/931 [==============================] - 72s 77ms/step - loss: 4.7181\n",
      "Epoch 9/100\n",
      "931/931 [==============================] - 72s 78ms/step - loss: 4.7175\n",
      "Epoch 10/100\n",
      "931/931 [==============================] - 72s 78ms/step - loss: 4.7165\n",
      "Epoch 11/100\n",
      "931/931 [==============================] - 72s 77ms/step - loss: 4.7166\n",
      "Epoch 12/100\n",
      "931/931 [==============================] - 72s 77ms/step - loss: 4.7169\n",
      "Epoch 13/100\n",
      "931/931 [==============================] - 72s 77ms/step - loss: 4.7155\n",
      "Epoch 14/100\n",
      "931/931 [==============================] - 72s 77ms/step - loss: 4.7159\n",
      "Epoch 15/100\n",
      "931/931 [==============================] - 72s 77ms/step - loss: 4.7157\n",
      "Epoch 16/100\n",
      "931/931 [==============================] - 72s 77ms/step - loss: 4.7151\n",
      "Epoch 17/100\n",
      "931/931 [==============================] - 72s 77ms/step - loss: 4.7156\n",
      "Epoch 18/100\n",
      "931/931 [==============================] - 72s 77ms/step - loss: 4.7156\n",
      "Epoch 19/100\n",
      "931/931 [==============================] - 72s 77ms/step - loss: 4.7149\n",
      "Epoch 20/100\n",
      "931/931 [==============================] - 72s 77ms/step - loss: 4.7150\n",
      "Epoch 21/100\n",
      "931/931 [==============================] - 72s 77ms/step - loss: 4.7141\n",
      "Epoch 22/100\n",
      "931/931 [==============================] - 72s 77ms/step - loss: 4.7148\n",
      "Epoch 23/100\n",
      "931/931 [==============================] - 72s 77ms/step - loss: 4.7146\n",
      "Epoch 24/100\n",
      "931/931 [==============================] - 72s 77ms/step - loss: 4.7147\n",
      "Epoch 25/100\n",
      "931/931 [==============================] - 72s 77ms/step - loss: 4.7142\n",
      "Epoch 26/100\n",
      "931/931 [==============================] - 72s 77ms/step - loss: 4.7145\n",
      "Epoch 27/100\n",
      "931/931 [==============================] - 72s 77ms/step - loss: 4.7149\n",
      "Epoch 28/100\n",
      "931/931 [==============================] - 72s 77ms/step - loss: 4.7143\n",
      "Epoch 29/100\n",
      "931/931 [==============================] - 72s 77ms/step - loss: 4.7145\n",
      "Epoch 30/100\n",
      "931/931 [==============================] - 72s 77ms/step - loss: 4.7146\n",
      "Epoch 31/100\n",
      "931/931 [==============================] - 72s 77ms/step - loss: 4.7139\n",
      "Epoch 32/100\n",
      "931/931 [==============================] - 72s 77ms/step - loss: 4.7139\n",
      "Epoch 33/100\n",
      "931/931 [==============================] - 72s 77ms/step - loss: 4.7144\n",
      "Epoch 34/100\n",
      "931/931 [==============================] - 72s 77ms/step - loss: 4.7141\n",
      "Epoch 35/100\n",
      "931/931 [==============================] - 72s 77ms/step - loss: 4.7137\n",
      "Epoch 36/100\n",
      "931/931 [==============================] - 72s 77ms/step - loss: 4.7145\n",
      "Epoch 37/100\n",
      "931/931 [==============================] - 72s 77ms/step - loss: 4.7141\n",
      "Epoch 38/100\n",
      "931/931 [==============================] - 72s 77ms/step - loss: 4.7135\n",
      "Epoch 39/100\n",
      "931/931 [==============================] - 72s 77ms/step - loss: 4.7142\n",
      "Epoch 40/100\n",
      "931/931 [==============================] - 72s 77ms/step - loss: 4.7143\n",
      "Epoch 41/100\n",
      "931/931 [==============================] - 72s 77ms/step - loss: 4.7131\n",
      "Epoch 42/100\n",
      "931/931 [==============================] - 72s 77ms/step - loss: 4.7133\n",
      "Epoch 43/100\n",
      "931/931 [==============================] - 72s 77ms/step - loss: 4.7132\n",
      "Epoch 44/100\n",
      "931/931 [==============================] - 72s 77ms/step - loss: 4.7128\n",
      "Epoch 45/100\n",
      "931/931 [==============================] - 72s 78ms/step - loss: 4.7126\n",
      "Epoch 46/100\n",
      "931/931 [==============================] - 72s 78ms/step - loss: 4.7122\n",
      "Epoch 47/100\n",
      "931/931 [==============================] - 72s 77ms/step - loss: 4.7129\n",
      "Epoch 48/100\n",
      "931/931 [==============================] - 72s 77ms/step - loss: 4.7127\n",
      "Epoch 49/100\n",
      "931/931 [==============================] - 72s 77ms/step - loss: 4.7122\n",
      "Epoch 50/100\n",
      "931/931 [==============================] - 72s 77ms/step - loss: 4.7125\n",
      "Epoch 51/100\n",
      "931/931 [==============================] - 72s 77ms/step - loss: 4.7121\n",
      "Epoch 52/100\n",
      "931/931 [==============================] - 72s 77ms/step - loss: 4.7126\n",
      "Epoch 53/100\n",
      "931/931 [==============================] - 71s 77ms/step - loss: 4.7122\n",
      "Epoch 54/100\n",
      "931/931 [==============================] - 71s 77ms/step - loss: 4.7125\n",
      "Epoch 55/100\n",
      "931/931 [==============================] - 71s 77ms/step - loss: 4.7124\n",
      "Epoch 56/100\n",
      "931/931 [==============================] - 71s 77ms/step - loss: 4.7127\n",
      "Epoch 57/100\n",
      "931/931 [==============================] - 71s 76ms/step - loss: 4.7124\n",
      "Epoch 58/100\n",
      "931/931 [==============================] - 71s 77ms/step - loss: 4.7128\n",
      "Epoch 59/100\n",
      "931/931 [==============================] - 71s 76ms/step - loss: 4.7122\n",
      "Epoch 60/100\n",
      "931/931 [==============================] - 71s 77ms/step - loss: 4.7119\n",
      "Epoch 61/100\n",
      "931/931 [==============================] - 71s 77ms/step - loss: 4.7122\n",
      "Epoch 62/100\n",
      "931/931 [==============================] - 72s 77ms/step - loss: 4.7119\n",
      "Epoch 63/100\n",
      "931/931 [==============================] - 71s 77ms/step - loss: 4.7112\n",
      "Epoch 64/100\n",
      "931/931 [==============================] - 71s 77ms/step - loss: 4.7106\n",
      "Epoch 65/100\n",
      "931/931 [==============================] - 72s 77ms/step - loss: 4.7110\n",
      "Epoch 66/100\n",
      "931/931 [==============================] - 72s 77ms/step - loss: 4.7105\n",
      "Epoch 67/100\n",
      "931/931 [==============================] - 72s 77ms/step - loss: 4.7108\n",
      "Epoch 68/100\n",
      "931/931 [==============================] - 72s 77ms/step - loss: 4.7102\n",
      "Epoch 69/100\n",
      "931/931 [==============================] - 71s 77ms/step - loss: 4.7104\n",
      "Epoch 70/100\n",
      "931/931 [==============================] - 71s 77ms/step - loss: 4.7109\n",
      "Epoch 71/100\n",
      "931/931 [==============================] - 71s 77ms/step - loss: 4.7107\n",
      "Epoch 72/100\n",
      "931/931 [==============================] - 71s 76ms/step - loss: 4.7105\n",
      "Epoch 73/100\n",
      "931/931 [==============================] - 71s 76ms/step - loss: 4.7107\n",
      "Epoch 74/100\n",
      "931/931 [==============================] - 71s 76ms/step - loss: 4.7107\n",
      "Epoch 75/100\n",
      "931/931 [==============================] - 71s 77ms/step - loss: 4.7107\n",
      "Epoch 76/100\n",
      "931/931 [==============================] - 71s 76ms/step - loss: 4.7104\n",
      "Epoch 77/100\n",
      "931/931 [==============================] - 71s 76ms/step - loss: 4.7106\n",
      "Epoch 78/100\n",
      "931/931 [==============================] - 72s 77ms/step - loss: 4.7108\n",
      "Epoch 79/100\n",
      "931/931 [==============================] - 72s 77ms/step - loss: 4.7104\n",
      "Epoch 80/100\n",
      "931/931 [==============================] - 72s 77ms/step - loss: 4.7107\n",
      "Epoch 81/100\n",
      "931/931 [==============================] - 72s 77ms/step - loss: 4.7107\n",
      "Epoch 82/100\n",
      "931/931 [==============================] - 72s 77ms/step - loss: 4.7104\n",
      "Epoch 83/100\n",
      "931/931 [==============================] - 72s 77ms/step - loss: 4.7102\n",
      "Epoch 84/100\n",
      "931/931 [==============================] - 72s 77ms/step - loss: 4.7102\n",
      "Epoch 85/100\n",
      "931/931 [==============================] - 72s 77ms/step - loss: 4.7106\n",
      "Epoch 86/100\n",
      "931/931 [==============================] - 72s 77ms/step - loss: 4.7105\n",
      "Epoch 87/100\n",
      "931/931 [==============================] - 72s 77ms/step - loss: 4.7102\n",
      "Epoch 88/100\n",
      "931/931 [==============================] - 72s 77ms/step - loss: 4.7104\n",
      "Epoch 89/100\n",
      "931/931 [==============================] - 72s 77ms/step - loss: 4.7101\n",
      "Epoch 90/100\n",
      "931/931 [==============================] - 72s 77ms/step - loss: 4.7105\n",
      "Epoch 91/100\n",
      "931/931 [==============================] - 72s 77ms/step - loss: 4.7104\n",
      "Epoch 92/100\n",
      "931/931 [==============================] - 72s 77ms/step - loss: 4.7103\n",
      "Epoch 93/100\n",
      "931/931 [==============================] - 72s 77ms/step - loss: 4.7104\n",
      "Epoch 94/100\n",
      "931/931 [==============================] - 72s 77ms/step - loss: 4.7105\n",
      "Epoch 95/100\n",
      "931/931 [==============================] - 72s 77ms/step - loss: 4.7103\n",
      "Epoch 96/100\n",
      "931/931 [==============================] - 72s 77ms/step - loss: 4.7101\n",
      "Epoch 97/100\n",
      "931/931 [==============================] - 72s 77ms/step - loss: 4.7103\n",
      "Epoch 98/100\n",
      "931/931 [==============================] - 72s 77ms/step - loss: 4.7103\n",
      "Epoch 99/100\n",
      "931/931 [==============================] - 72s 77ms/step - loss: 4.7102\n",
      "Epoch 100/100\n",
      "931/931 [==============================] - 72s 77ms/step - loss: 4.7101\n"
     ]
    }
   ],
   "source": [
    "checkpoint = ModelCheckpoint(\"model.hdf5\", monitor='loss', verbose=0, save_best_only=True, mode='min')\n",
    "\n",
    "\n",
    "hist = model.fit(normalized_network_ip, network_op, epochs=100, batch_size=64, callbacks=[checkpoint])"
   ]
  },
  {
   "cell_type": "code",
   "execution_count": null,
   "metadata": {
    "id": "BxYo67latZXm"
   },
   "outputs": [],
   "source": []
  }
 ],
 "metadata": {
  "accelerator": "GPU",
  "colab": {
   "collapsed_sections": [],
   "name": "Model Training.ipynb",
   "provenance": []
  },
  "kernelspec": {
   "display_name": "Python 3",
   "language": "python",
   "name": "python3"
  },
  "language_info": {
   "codemirror_mode": {
    "name": "ipython",
    "version": 3
   },
   "file_extension": ".py",
   "mimetype": "text/x-python",
   "name": "python",
   "nbconvert_exporter": "python",
   "pygments_lexer": "ipython3",
   "version": "3.7.4"
  }
 },
 "nbformat": 4,
 "nbformat_minor": 1
}
